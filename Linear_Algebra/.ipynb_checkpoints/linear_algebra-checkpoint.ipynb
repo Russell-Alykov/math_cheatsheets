{
 "cells": [
  {
   "cell_type": "code",
   "execution_count": 4,
   "id": "89f749e4",
   "metadata": {},
   "outputs": [],
   "source": [
    "import pandas as pd\n",
    "import seaborn as sns\n",
    "import numpy as np\n",
    "\n",
    "import matplotlib.pyplot as plt\n",
    "%matplotlib inline"
   ]
  },
  {
   "cell_type": "markdown",
   "id": "41e05cf5",
   "metadata": {},
   "source": [
    "**Поменять местами что бы везде ось x и i-head ВЫЧИСЛЯЛИСЬ ПЕРВЫМИ**<br/>\n",
    "Name of git.rep: \"Linear_algebra_CheatSheet\" or \"Linear_Algebra_Cribs\""
   ]
  },
  {
   "cell_type": "markdown",
   "id": "909af8f2",
   "metadata": {},
   "source": [
    "# Basis vectors (i-head, J-head)"
   ]
  },
  {
   "cell_type": "code",
   "execution_count": 78,
   "id": "1c8deca9",
   "metadata": {},
   "outputs": [],
   "source": [
    "#ПЕРЕПИСАТЬ, СТЕР..........:("
   ]
  },
  {
   "cell_type": "code",
   "execution_count": null,
   "id": "d8ac24ad",
   "metadata": {},
   "outputs": [],
   "source": []
  },
  {
   "cell_type": "markdown",
   "id": "b95d6dfe",
   "metadata": {},
   "source": [
    "# Scalar, x2 multiply J-head and i-head"
   ]
  },
  {
   "cell_type": "code",
   "execution_count": 72,
   "id": "deebaf10",
   "metadata": {},
   "outputs": [
    {
     "data": {
      "image/png": "[encoded data removed]",
      "text/plain": [
       "<Figure size 432x288 with 1 Axes>"
      ]
     },
     "metadata": {
      "needs_background": "light"
     },
     "output_type": "display_data"
    }
   ],
   "source": [
    "plt.plot([-6, 6], [0, 0], 'c--') # axis x\n",
    "plt.plot([0, 0], [-6, 6], 'c--') # axis y\n",
    "\n",
    "vector_J = [0, 1]\n",
    "vector_i = [1, 0]\n",
    "scalar = 2\n",
    "\n",
    "scale_vector_1 = [vector_J[0] * scalar, vector_J[1] * scalar] # coordinates for J-head multiply scalar\n",
    "plt.plot([0, scale_vector_1[0]], \n",
    "         [0, scale_vector_1[1]], \n",
    "         color='red') # from 0 to one +y  and * scalar step\n",
    "\n",
    "scale_vector_2 = [vector_i[0] * scalar, vector_i[1] * scalar] # coordinates for i-head multiply scalar\n",
    "plt.plot([0, scale_vector_2[0]], \n",
    "         [0, scale_vector_2[1]], \n",
    "         color='green')# from 0 to one +x and * scalar step\n",
    "\n",
    "plt.axis('equal')\n",
    "plt.grid()"
   ]
  },
  {
   "cell_type": "markdown",
   "id": "73205662",
   "metadata": {},
   "source": [
    "# Vector addition, v_3 = sum(scaled i-head, scaled J-head)"
   ]
  },
  {
   "cell_type": "code",
   "execution_count": 77,
   "id": "1fb3dabf",
   "metadata": {},
   "outputs": [
    {
     "data": {
      "image/png": "[encoded data removed]",
      "text/plain": [
       "<Figure size 432x288 with 1 Axes>"
      ]
     },
     "metadata": {
      "needs_background": "light"
     },
     "output_type": "display_data"
    }
   ],
   "source": [
    "plt.plot([-6, 6], [0, 0], 'c--')\n",
    "plt.plot([0, 0], [-6, 6], 'c--')\n",
    "\n",
    "vector_1 = [2, 5] # coordinates for y\n",
    "plt.plot([0, vector_1[0]], [0, vector_1[1]], color='red')\n",
    "\n",
    "vector_2 = [-3, 1]\n",
    "plt.plot([0, vector_2[0]], [0, vector_2[1]], color='green')\n",
    "\n",
    "vector_3 = [vector_1[0] + vector_2[0], vector_1[1] + vector_2[1]]\n",
    "plt.plot([0, vector_3[0]], [0, vector_3[1]], color='black')\n",
    "\n",
    "plt.axis('equal')\n",
    "plt.grid()"
   ]
  },
  {
   "cell_type": "code",
   "execution_count": null,
   "id": "6462de9a",
   "metadata": {},
   "outputs": [],
   "source": []
  }
 ],
 "metadata": {
  "kernelspec": {
   "display_name": "Python 3 (ipykernel)",
   "language": "python",
   "name": "python3"
  },
  "language_info": {
   "codemirror_mode": {
    "name": "ipython",
    "version": 3
   },
   "file_extension": ".py",
   "mimetype": "text/x-python",
   "name": "python",
   "nbconvert_exporter": "python",
   "pygments_lexer": "ipython3",
   "version": "3.9.7"
  }
 },
 "nbformat": 4,
 "nbformat_minor": 5
}
