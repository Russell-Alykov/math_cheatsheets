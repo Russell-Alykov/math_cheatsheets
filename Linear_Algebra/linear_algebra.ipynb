{
 "cells": [
  {
   "cell_type": "code",
   "execution_count": 2,
   "id": "5e8ef222",
   "metadata": {},
   "outputs": [],
   "source": [
    "import pandas as pd\n",
    "import seaborn as sns\n",
    "import numpy as np\n",
    "\n",
    "import matplotlib.pyplot as plt\n",
    "%matplotlib inline"
   ]
  },
  {
   "cell_type": "markdown",
   "id": "3c7508ce",
   "metadata": {},
   "source": [
    "**Поменять местами что бы везде ось x и i-head ВЫЧИСЛЯЛИСЬ ПЕРВЫМИ**<br/>\n",
    "Name of git.rep: \"Linear_algebra_CheatSheet\" or \"Linear_Algebra_Cribs\""
   ]
  },
  {
   "cell_type": "markdown",
   "id": "ba5688f2",
   "metadata": {},
   "source": [
    "## Basis vectors (i-head(+x), J-head(+y))"
   ]
  },
  {
   "cell_type": "code",
   "execution_count": 13,
   "id": "ae46cdd6",
   "metadata": {},
   "outputs": [
    {
     "data": {
      "image/png": "[encoded data removed]",
      "text/plain": [
       "<Figure size 432x288 with 1 Axes>"
      ]
     },
     "metadata": {
      "needs_background": "light"
     },
     "output_type": "display_data"
    }
   ],
   "source": [
    "plt.plot([-6, 6], [0, 0], 'c--') # axis x\n",
    "plt.plot([0, 0], [-6, 6], 'c--') # axis y\n",
    "\n",
    "vector_i = [1, 0] # i-head vector coordinates\n",
    "plt.plot([0, vector_i[0]], [0, vector_i[1]], color = 'red') # one step from 0 to +x\n",
    "\n",
    "vector_J = [0, 1] # J-head vector coordinates\n",
    "plt.plot([0, vector_J[0]], [0, vector_J[1]], color = 'green') # one step from 0 to +y\n",
    "\n",
    "plt.axis('equal')\n",
    "plt.grid()"
   ]
  },
  {
   "cell_type": "markdown",
   "id": "9bfee193",
   "metadata": {},
   "source": [
    "## Scalar, x2 multiply J-head and i-head"
   ]
  },
  {
   "cell_type": "code",
   "execution_count": 71,
   "id": "742dce92",
   "metadata": {},
   "outputs": [
    {
     "data": {
      "image/png": "[encoded data removed]",
      "text/plain": [
       "<Figure size 432x288 with 1 Axes>"
      ]
     },
     "metadata": {
      "needs_background": "light"
     },
     "output_type": "display_data"
    }
   ],
   "source": [
    "plt.plot([-6, 6], [0, 0], 'c--') # axis x\n",
    "plt.plot([0, 0], [-6, 6], 'c--') # axis y\n",
    "\n",
    "vector_J = [0, 1]\n",
    "vector_i = [1, 0]\n",
    "scalar = 2\n",
    "\n",
    "scale_vector_1 = [vector_J[0] * scalar, vector_J[1] * scalar] # coordinates for J-head multiply scalar\n",
    "plt.plot([0, scale_vector_1[0]], \n",
    "         [0, scale_vector_1[1]], \n",
    "         color='green') # from 0 to one +y  and * scalar step\n",
    "\n",
    "scale_vector_2 = [vector_i[0] * scalar, vector_i[1] * scalar] # coordinates for i-head multiply scalar\n",
    "plt.plot([0, scale_vector_2[0]], \n",
    "         [0, scale_vector_2[1]], \n",
    "         color='red')# from 0 to one +x and * scalar step\n",
    "\n",
    "plt.axis('equal')\n",
    "plt.grid()"
   ]
  },
  {
   "cell_type": "code",
   "execution_count": null,
   "id": "be52963e",
   "metadata": {},
   "outputs": [],
   "source": [
    "def scale_vector():"
   ]
  },
  {
   "cell_type": "markdown",
   "id": "c4f68d3c",
   "metadata": {},
   "source": [
    "## Vector addition, new_vector = sum(scaled i-head, scaled J-head)"
   ]
  },
  {
   "cell_type": "code",
   "execution_count": 124,
   "id": "ddda4b31",
   "metadata": {},
   "outputs": [
    {
     "data": {
      "image/png": "[encoded data removed]",
      "text/plain": [
       "<Figure size 432x288 with 1 Axes>"
      ]
     },
     "metadata": {
      "needs_background": "light"
     },
     "output_type": "display_data"
    }
   ],
   "source": [
    "plt.plot([-6, 6], [0, 0], 'c--')\n",
    "plt.plot([0, 0], [-6, 6], 'c--')\n",
    "\n",
    "vector_1 = [2, 5] # coordinates for y\n",
    "plt.plot([0, vector_1[0]], [0, vector_1[1]], color='red')\n",
    "\n",
    "vector_2 = [-3, 1]\n",
    "plt.plot([0, vector_2[0]], [0, vector_2[1]], color='green')\n",
    "\n",
    "# vector addition formula: v_a + v_b = {a1+b1,a2+b2}\n",
    "vector_3 = [vector_1[0] + vector_2[0], vector_1[1] + vector_2[1]]\n",
    "plt.plot([0, vector_3[0]], [0, vector_3[1]], color='black')\n",
    "\n",
    "plt.axis('equal')\n",
    "plt.grid()"
   ]
  },
  {
   "cell_type": "code",
   "execution_count": 131,
   "id": "54dd6849",
   "metadata": {},
   "outputs": [],
   "source": [
    "def vector_addition(scaled_i= [0, 0], scaled_J = [0, 0]):\n",
    "    '''Function for vector addition\n",
    "    scaled_i = [] (scaled i-head coordinates)\n",
    "    scaled_J = [] (scaled J-head coordinates)'''\n",
    "    \n",
    "    plt.figure(figsize=(15, 10)) # size\n",
    "    \n",
    "    x = plt.plot([-100, 100], [0, 0], color='black') # axis-x\n",
    "    y = plt.plot([0, 0], [-100, 100], color='black') # axis-y\n",
    "    \n",
    "    vector_1 = plt.plot([0, scaled_i[0]], [0, scaled_i[1]], color='red') \n",
    "    vector_2 = plt.plot([0, scaled_J[0]], [0, scaled_J[1]], color='green')\n",
    "    new_vector = [scaled_i[0] + scaled_J[0], scaled_i[1] + scaled_J[1]] # v_a + v_b = {a1+b1,a2+b2}\n",
    "    vector_3 = plt.plot([0, new_vector[0]], [0, new_vector[1]], color='blue')\n",
    "    \n",
    "    plt.axis('equal')\n",
    "    plt.grid()\n",
    "    \n",
    "    return print(f'New vector(blue) coordinates: x = {new_vector[0]} ; y = {new_vector[1]}')"
   ]
  },
  {
   "cell_type": "code",
   "execution_count": null,
   "id": "a7cfc3e0",
   "metadata": {},
   "outputs": [],
   "source": []
  },
  {
   "cell_type": "code",
   "execution_count": 132,
   "id": "a3885b26",
   "metadata": {},
   "outputs": [
    {
     "name": "stdout",
     "output_type": "stream",
     "text": [
      "New vector(blue) coordinates: x = 39 ; y = 60\n"
     ]
    },
    {
     "data": {
      "image/png": "[encoded data removed]",
      "text/plain": [
       "<Figure size 1080x720 with 1 Axes>"
      ]
     },
     "metadata": {
      "needs_background": "light"
     },
     "output_type": "display_data"
    }
   ],
   "source": [
    "vector_addition([74, 41], [-35, 19])"
   ]
  },
  {
   "cell_type": "code",
   "execution_count": null,
   "id": "6c58d5dc",
   "metadata": {},
   "outputs": [],
   "source": []
  },
  {
   "cell_type": "code",
   "execution_count": null,
   "id": "caa54b30",
   "metadata": {},
   "outputs": [],
   "source": []
  }
 ],
 "metadata": {
  "kernelspec": {
   "display_name": "Python 3 (ipykernel)",
   "language": "python",
   "name": "python3"
  },
  "language_info": {
   "codemirror_mode": {
    "name": "ipython",
    "version": 3
   },
   "file_extension": ".py",
   "mimetype": "text/x-python",
   "name": "python",
   "nbconvert_exporter": "python",
   "pygments_lexer": "ipython3",
   "version": "3.9.7"
  }
 },
 "nbformat": 4,
 "nbformat_minor": 5
}
